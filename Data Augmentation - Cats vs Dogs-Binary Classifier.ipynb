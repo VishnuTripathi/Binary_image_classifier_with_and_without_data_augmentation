{
 "cells": [
  {
   "cell_type": "markdown",
   "metadata": {},
   "source": [
    "# Cats vs Dogs\n",
    "\n",
    "### Loading our images \n",
    "- Images are labeled catxxx.jpg and dogxxx.jpg"
   ]
  },
  {
   "cell_type": "code",
   "execution_count": 1,
   "metadata": {},
   "outputs": [
    {
     "name": "stdout",
     "output_type": "stream",
     "text": [
      "3002 images loaded\n"
     ]
    }
   ],
   "source": [
    "# Get filenames in list\n",
    "from os import listdir\n",
    "from os.path import isfile, join\n",
    "\n",
    "mypath = \"./datasets/images/\"\n",
    "\n",
    "file_names = [f for f in listdir(mypath) if isfile(join(mypath, f))]\n",
    "\n",
    "print(str(len(file_names)) + ' images loaded')"
   ]
  },
  {
   "cell_type": "markdown",
   "metadata": {},
   "source": [
    "### Splitting our loaded images into a training and test/validation dataset\n",
    "- We also need to store their labels (i.e. y_train and y_test)\n",
    "- We re-size our images here to maintain a constant dimension of 150 x 150\n",
    "- We're going to use 1000 images of dogs and 1000 images of cats as our training data\n",
    "- For our test/validation dataset we're going to use 500 of each class\n",
    "- Dogs will be labels 1 and cats 0\n",
    "- We store our new images in the following directories\n",
    " - /datasets/catsvsdogs/train/dogs\n",
    " - /datasets/catsvsdogs/train/cats\n",
    " - /datasets/catsvsdogs/validation/dogs\n",
    " - /datasets/catsvsdogs/validation/cats"
   ]
  },
  {
   "cell_type": "code",
   "execution_count": 2,
   "metadata": {},
   "outputs": [
    {
     "name": "stdout",
     "output_type": "stream",
     "text": [
      "Training and Test Data Extraction Complete\n"
     ]
    }
   ],
   "source": [
    "import cv2\n",
    "import numpy as np\n",
    "import sys\n",
    "import os\n",
    "import shutil\n",
    "\n",
    "# Extract 1000 for our training data and 500 for our validation set\n",
    "# Takes about ~20 seconds to run\n",
    "dog_count = 0\n",
    "cat_count = 0\n",
    "training_size = 1000\n",
    "test_size = 500\n",
    "training_images = []\n",
    "training_labels = []\n",
    "test_images = []\n",
    "test_labels = []\n",
    "size = 150\n",
    "dog_dir_train = \"./datasets/catsvsdogs/train/dogs/\"\n",
    "cat_dir_train = \"./datasets/catsvsdogs/train/cats/\"\n",
    "dog_dir_val = \"./datasets/catsvsdogs/validation/dogs/\"\n",
    "cat_dir_val = \"./datasets/catsvsdogs/validation/cats/\"\n",
    "\n",
    "def make_dir(directory):\n",
    "        if os.path.exists(directory):\n",
    "            shutil.rmtree(directory)\n",
    "        os.makedirs(directory)\n",
    "\n",
    "make_dir(dog_dir_train)\n",
    "make_dir(cat_dir_train)\n",
    "make_dir(dog_dir_val)\n",
    "make_dir(cat_dir_val)\n",
    "\n",
    "def getZeros(number):\n",
    "    if(number > 10 and number < 100):\n",
    "        return \"0\"\n",
    "    if(number < 10):\n",
    "        return \"00\"\n",
    "    else:\n",
    "        return \"\"\n",
    "\n",
    "for i, file in enumerate(file_names):\n",
    "    \n",
    "    if file_names[i][0] == \"d\":\n",
    "        dog_count += 1\n",
    "        image = cv2.imread(mypath+file)\n",
    "        image = cv2.resize(image, (size, size), interpolation = cv2.INTER_AREA)\n",
    "        if dog_count <= training_size:\n",
    "            training_images.append(image)\n",
    "            training_labels.append(1)\n",
    "            zeros = getZeros(dog_count)\n",
    "            cv2.imwrite(dog_dir_train + \"dog\" + str(zeros) + str(dog_count) + \".jpg\", image)\n",
    "        if dog_count > training_size and dog_count <= training_size+test_size:\n",
    "            test_images.append(image)\n",
    "            test_labels.append(1)\n",
    "            zeros = getZeros(dog_count-1000)\n",
    "            cv2.imwrite(dog_dir_val + \"dog\" + str(zeros) + str(dog_count-1000) + \".jpg\", image)\n",
    "            \n",
    "    if file_names[i][0] == \"c\":\n",
    "        cat_count += 1\n",
    "        image = cv2.imread(mypath+file)\n",
    "        image = cv2.resize(image, (size, size), interpolation = cv2.INTER_AREA)\n",
    "        if cat_count <= training_size:\n",
    "            training_images.append(image)\n",
    "            training_labels.append(0)\n",
    "            zeros = getZeros(cat_count)\n",
    "            cv2.imwrite(cat_dir_train + \"cat\" + str(zeros) + str(cat_count) + \".jpg\", image)\n",
    "        if cat_count > training_size and cat_count <= training_size+test_size:\n",
    "            test_images.append(image)\n",
    "            test_labels.append(0)\n",
    "            zeros = getZeros(cat_count-1000)\n",
    "            cv2.imwrite(cat_dir_val + \"cat\" + str(zeros) + str(cat_count-1000) + \".jpg\", image)\n",
    "\n",
    "    if dog_count == training_size+test_size and cat_count == training_size+test_size:\n",
    "        break\n",
    "\n",
    "print(\"Training and Test Data Extraction Complete\")"
   ]
  },
  {
   "cell_type": "markdown",
   "metadata": {},
   "source": [
    "### Let's save our dataset's to NPZ files"
   ]
  },
  {
   "cell_type": "code",
   "execution_count": 3,
   "metadata": {},
   "outputs": [],
   "source": [
    "# Using numpy's savez function to store our loaded data as NPZ files\n",
    "np.savez('cats_vs_dogs_training_data.npz', np.array(training_images))\n",
    "np.savez('cats_vs_dogs_training_labels.npz', np.array(training_labels))\n",
    "np.savez('cats_vs_dogs_test_data.npz', np.array(test_images))\n",
    "np.savez('cats_vs_dogs_test_labels.npz', np.array(test_labels))"
   ]
  },
  {
   "cell_type": "code",
   "execution_count": 4,
   "metadata": {},
   "outputs": [],
   "source": [
    "# Loader Function\n",
    "import numpy as np\n",
    "\n",
    "def load_data_training_and_test(datasetname):\n",
    "    \n",
    "    npzfile = np.load(datasetname + \"_training_data.npz\")\n",
    "    train = npzfile['arr_0']\n",
    "    \n",
    "    npzfile = np.load(datasetname + \"_training_labels.npz\")\n",
    "    train_labels = npzfile['arr_0']\n",
    "    \n",
    "    npzfile = np.load(datasetname + \"_test_data.npz\")\n",
    "    test = npzfile['arr_0']\n",
    "    \n",
    "    npzfile = np.load(datasetname + \"_test_labels.npz\")\n",
    "    test_labels = npzfile['arr_0']\n",
    "\n",
    "    return (train, train_labels), (test, test_labels)"
   ]
  },
  {
   "cell_type": "markdown",
   "metadata": {},
   "source": [
    "### Let's view some of our loaded images"
   ]
  },
  {
   "cell_type": "code",
   "execution_count": 5,
   "metadata": {
    "scrolled": true
   },
   "outputs": [
    {
     "name": "stdout",
     "output_type": "stream",
     "text": [
      "1 - Dog\n",
      "2 - Dog\n",
      "3 - Cat\n",
      "4 - Dog\n",
      "5 - Cat\n",
      "6 - Cat\n",
      "7 - Cat\n",
      "8 - Cat\n",
      "9 - Cat\n",
      "10 - Cat\n"
     ]
    }
   ],
   "source": [
    "for i in range(1,11):\n",
    "    random = np.random.randint(0, len(training_images))\n",
    "    cv2.imshow(\"image_\"+str(i), training_images[random])\n",
    "    if training_labels[random] == 0:\n",
    "        print(str(i) + \" - Cat\")\n",
    "    else:\n",
    "        print(str(i)+ \" - Dog\")\n",
    "    cv2.waitKey(0)\n",
    "    \n",
    "cv2.destroyAllWindows()"
   ]
  },
  {
   "cell_type": "markdown",
   "metadata": {},
   "source": [
    "### Let's get our data ready in the format expected by Keras\n",
    "- We also stick the previous naming convention "
   ]
  },
  {
   "cell_type": "code",
   "execution_count": 6,
   "metadata": {},
   "outputs": [
    {
     "name": "stdout",
     "output_type": "stream",
     "text": [
      "(2000, 150, 150, 3)\n",
      "(2000, 1)\n",
      "(1000, 150, 150, 3)\n",
      "(1000, 1)\n"
     ]
    }
   ],
   "source": [
    "(x_train, y_train), (x_test, y_test) = load_data_training_and_test(\"cats_vs_dogs\")\n",
    "\n",
    "# Reshaping our label data from (2000,) to (2000,1) and test data from (1000,) to (1000,1)\n",
    "y_train = y_train.reshape(y_train.shape[0], 1)\n",
    "y_test = y_test.reshape(y_test.shape[0], 1)\n",
    "\n",
    "# Change our image type to float32 data type\n",
    "x_train = x_train.astype('float32')\n",
    "x_test = x_test.astype('float32')\n",
    "\n",
    "# Normalize our data by changing the range from (0 to 255) to (0 to 1)\n",
    "x_train /= 255\n",
    "x_test /= 255\n",
    "\n",
    "print(x_train.shape)\n",
    "print(y_train.shape)\n",
    "print(x_test.shape)\n",
    "print(y_test.shape)"
   ]
  },
  {
   "cell_type": "markdown",
   "metadata": {},
   "source": [
    "### Let's create our model using a simple CNN.\n",
    "- We use a Sigmoid activation function in last layer\n",
    "- **Sigmoids are used when we're doing binary (i.e. two class) classification\n",
    "- Note the binary_crossentropy loss"
   ]
  },
  {
   "cell_type": "code",
   "execution_count": 7,
   "metadata": {},
   "outputs": [
    {
     "name": "stdout",
     "output_type": "stream",
     "text": [
      "Model: \"sequential\"\n",
      "_________________________________________________________________\n",
      " Layer (type)                Output Shape              Param #   \n",
      "=================================================================\n",
      " conv2d (Conv2D)             (None, 148, 148, 32)      896       \n",
      "                                                                 \n",
      " activation (Activation)     (None, 148, 148, 32)      0         \n",
      "                                                                 \n",
      " max_pooling2d (MaxPooling2D  (None, 74, 74, 32)       0         \n",
      " )                                                               \n",
      "                                                                 \n",
      " conv2d_1 (Conv2D)           (None, 72, 72, 32)        9248      \n",
      "                                                                 \n",
      " activation_1 (Activation)   (None, 72, 72, 32)        0         \n",
      "                                                                 \n",
      " max_pooling2d_1 (MaxPooling  (None, 36, 36, 32)       0         \n",
      " 2D)                                                             \n",
      "                                                                 \n",
      " conv2d_2 (Conv2D)           (None, 34, 34, 64)        18496     \n",
      "                                                                 \n",
      " activation_2 (Activation)   (None, 34, 34, 64)        0         \n",
      "                                                                 \n",
      " max_pooling2d_2 (MaxPooling  (None, 17, 17, 64)       0         \n",
      " 2D)                                                             \n",
      "                                                                 \n",
      " flatten (Flatten)           (None, 18496)             0         \n",
      "                                                                 \n",
      " dense (Dense)               (None, 64)                1183808   \n",
      "                                                                 \n",
      " activation_3 (Activation)   (None, 64)                0         \n",
      "                                                                 \n",
      " dropout (Dropout)           (None, 64)                0         \n",
      "                                                                 \n",
      " dense_1 (Dense)             (None, 1)                 65        \n",
      "                                                                 \n",
      " activation_4 (Activation)   (None, 1)                 0         \n",
      "                                                                 \n",
      "=================================================================\n",
      "Total params: 1,212,513\n",
      "Trainable params: 1,212,513\n",
      "Non-trainable params: 0\n",
      "_________________________________________________________________\n",
      "None\n"
     ]
    }
   ],
   "source": [
    "from __future__ import print_function\n",
    "import keras\n",
    "from keras.preprocessing.image import ImageDataGenerator\n",
    "from keras.models import Sequential\n",
    "from keras.layers import Dense, Dropout, Activation, Flatten\n",
    "from keras.layers import Conv2D, MaxPooling2D\n",
    "import os\n",
    "\n",
    "batch_size = 16\n",
    "epochs = 25\n",
    "\n",
    "img_rows = x_train[0].shape[0]\n",
    "img_cols = x_train[1].shape[0]\n",
    "input_shape = (img_rows, img_cols, 3)\n",
    "\n",
    "model = Sequential()\n",
    "model.add(Conv2D(32, (3, 3), input_shape=input_shape))\n",
    "model.add(Activation('relu'))\n",
    "model.add(MaxPooling2D(pool_size=(2, 2)))\n",
    "\n",
    "model.add(Conv2D(32, (3, 3)))\n",
    "model.add(Activation('relu'))\n",
    "model.add(MaxPooling2D(pool_size=(2, 2)))\n",
    "\n",
    "model.add(Conv2D(64, (3, 3)))\n",
    "model.add(Activation('relu'))\n",
    "model.add(MaxPooling2D(pool_size=(2, 2)))\n",
    "\n",
    "model.add(Flatten())\n",
    "model.add(Dense(64))\n",
    "model.add(Activation('relu'))\n",
    "model.add(Dropout(0.5))\n",
    "model.add(Dense(1))\n",
    "model.add(Activation('sigmoid'))\n",
    "\n",
    "model.compile(loss='binary_crossentropy',\n",
    "              optimizer='rmsprop',\n",
    "              metrics=['accuracy'])\n",
    "\n",
    "print(model.summary())"
   ]
  },
  {
   "cell_type": "markdown",
   "metadata": {},
   "source": [
    "### Training our model"
   ]
  },
  {
   "cell_type": "code",
   "execution_count": 8,
   "metadata": {},
   "outputs": [
    {
     "name": "stdout",
     "output_type": "stream",
     "text": [
      "Epoch 1/25\n",
      "125/125 [==============================] - 43s 340ms/step - loss: 0.7537 - accuracy: 0.5195 - val_loss: 0.7306 - val_accuracy: 0.5000\n",
      "Epoch 2/25\n",
      "125/125 [==============================] - 42s 338ms/step - loss: 0.6840 - accuracy: 0.5520 - val_loss: 0.6417 - val_accuracy: 0.6840\n",
      "Epoch 3/25\n",
      "125/125 [==============================] - 42s 334ms/step - loss: 0.6382 - accuracy: 0.6560 - val_loss: 0.6084 - val_accuracy: 0.6870\n",
      "Epoch 4/25\n",
      "125/125 [==============================] - 42s 335ms/step - loss: 0.6095 - accuracy: 0.6840 - val_loss: 0.6723 - val_accuracy: 0.5940\n",
      "Epoch 5/25\n",
      "125/125 [==============================] - 42s 332ms/step - loss: 0.5573 - accuracy: 0.7090 - val_loss: 0.8511 - val_accuracy: 0.6160\n",
      "Epoch 6/25\n",
      "125/125 [==============================] - 42s 336ms/step - loss: 0.5112 - accuracy: 0.7685 - val_loss: 0.5442 - val_accuracy: 0.7280\n",
      "Epoch 7/25\n",
      "125/125 [==============================] - 42s 333ms/step - loss: 0.4633 - accuracy: 0.7905 - val_loss: 0.5250 - val_accuracy: 0.7320\n",
      "Epoch 8/25\n",
      "125/125 [==============================] - 43s 342ms/step - loss: 0.4041 - accuracy: 0.8270 - val_loss: 0.6109 - val_accuracy: 0.7180\n",
      "Epoch 9/25\n",
      "125/125 [==============================] - 42s 337ms/step - loss: 0.3577 - accuracy: 0.8450 - val_loss: 0.5539 - val_accuracy: 0.7420\n",
      "Epoch 10/25\n",
      "125/125 [==============================] - 42s 338ms/step - loss: 0.3244 - accuracy: 0.8650 - val_loss: 0.6391 - val_accuracy: 0.7170\n",
      "Epoch 11/25\n",
      "125/125 [==============================] - 43s 346ms/step - loss: 0.2729 - accuracy: 0.8855 - val_loss: 0.6264 - val_accuracy: 0.7460\n",
      "Epoch 12/25\n",
      "125/125 [==============================] - 43s 345ms/step - loss: 0.2336 - accuracy: 0.8960 - val_loss: 0.6581 - val_accuracy: 0.7250\n",
      "Epoch 13/25\n",
      "125/125 [==============================] - 43s 341ms/step - loss: 0.1949 - accuracy: 0.9170 - val_loss: 0.7608 - val_accuracy: 0.7330\n",
      "Epoch 14/25\n",
      "125/125 [==============================] - 43s 345ms/step - loss: 0.1702 - accuracy: 0.9335 - val_loss: 0.8055 - val_accuracy: 0.7490\n",
      "Epoch 15/25\n",
      "125/125 [==============================] - 42s 336ms/step - loss: 0.1540 - accuracy: 0.9440 - val_loss: 0.9776 - val_accuracy: 0.7330\n",
      "Epoch 16/25\n",
      "125/125 [==============================] - 42s 338ms/step - loss: 0.1125 - accuracy: 0.9600 - val_loss: 1.0820 - val_accuracy: 0.7450\n",
      "Epoch 17/25\n",
      "125/125 [==============================] - 42s 336ms/step - loss: 0.0963 - accuracy: 0.9690 - val_loss: 1.1567 - val_accuracy: 0.7450\n",
      "Epoch 18/25\n",
      "125/125 [==============================] - 43s 341ms/step - loss: 0.0872 - accuracy: 0.9655 - val_loss: 1.1499 - val_accuracy: 0.7360\n",
      "Epoch 19/25\n",
      "125/125 [==============================] - 42s 335ms/step - loss: 0.0856 - accuracy: 0.9670 - val_loss: 1.2865 - val_accuracy: 0.7420\n",
      "Epoch 20/25\n",
      "125/125 [==============================] - 42s 335ms/step - loss: 0.0659 - accuracy: 0.9745 - val_loss: 1.4359 - val_accuracy: 0.7420\n",
      "Epoch 21/25\n",
      "125/125 [==============================] - 42s 334ms/step - loss: 0.0623 - accuracy: 0.9775 - val_loss: 1.4957 - val_accuracy: 0.7490\n",
      "Epoch 22/25\n",
      "125/125 [==============================] - 42s 336ms/step - loss: 0.0498 - accuracy: 0.9790 - val_loss: 2.4519 - val_accuracy: 0.6870\n",
      "Epoch 23/25\n",
      "125/125 [==============================] - 42s 337ms/step - loss: 0.0552 - accuracy: 0.9790 - val_loss: 1.8419 - val_accuracy: 0.7540\n",
      "Epoch 24/25\n",
      "125/125 [==============================] - 41s 332ms/step - loss: 0.0502 - accuracy: 0.9815 - val_loss: 2.0441 - val_accuracy: 0.7260\n",
      "Epoch 25/25\n",
      "125/125 [==============================] - 41s 328ms/step - loss: 0.0441 - accuracy: 0.9860 - val_loss: 1.8095 - val_accuracy: 0.7320\n",
      "32/32 [==============================] - 5s 153ms/step - loss: 1.8095 - accuracy: 0.7320\n",
      "Test loss: 1.809531569480896\n",
      "Test accuracy: 0.7319999933242798\n"
     ]
    }
   ],
   "source": [
    "history = model.fit(x_train, y_train,\n",
    "          batch_size=batch_size,\n",
    "          epochs=epochs,\n",
    "          validation_data=(x_test, y_test),\n",
    "          shuffle=True)\n",
    "\n",
    "model.save(r\"C:\\Users\\VISHNU TRIPATHI\\Binary_classifier\\cats_vs_dogs_V1.h5\")\n",
    "\n",
    "# Evaluate the performance of our trained model\n",
    "scores = model.evaluate(x_test, y_test, verbose=1)\n",
    "print('Test loss:', scores[0])\n",
    "print('Test accuracy:', scores[1])"
   ]
  },
  {
   "cell_type": "markdown",
   "metadata": {},
   "source": [
    "### Analysis\n",
    "- Our results aren't bad, but they could be better"
   ]
  },
  {
   "cell_type": "markdown",
   "metadata": {},
   "source": [
    "# Now let's train our Cats vs Dogs Classifier using Data Augmentation"
   ]
  },
  {
   "cell_type": "code",
   "execution_count": 20,
   "metadata": {},
   "outputs": [
    {
     "name": "stdout",
     "output_type": "stream",
     "text": [
      "Found 2000 images belonging to 2 classes.\n",
      "Found 1000 images belonging to 2 classes.\n"
     ]
    }
   ],
   "source": [
    "import os\n",
    "import numpy as np\n",
    "from keras.models import Sequential\n",
    "from keras.layers import Activation, Dropout, Flatten, Dense\n",
    "from keras.preprocessing.image import ImageDataGenerator\n",
    "from keras.layers import Conv2D, MaxPooling2D, ZeroPadding2D\n",
    "from keras import optimizers\n",
    "import scipy\n",
    "import pylab as pl\n",
    "import matplotlib.cm as cm\n",
    "%matplotlib inline\n",
    "\n",
    "input_shape = (150, 150, 3)\n",
    "img_width = 150\n",
    "img_height = 150\n",
    "\n",
    "nb_train_samples = 2000\n",
    "nb_validation_samples = 1000\n",
    "batch_size = 16\n",
    "epochs = 25\n",
    "\n",
    "train_data_dir = './datasets/catsvsdogs/train'\n",
    "validation_data_dir = './datasets/catsvsdogs/validation'\n",
    "\n",
    "# Creating our data generator for our test data\n",
    "validation_datagen = ImageDataGenerator(\n",
    "    # used to rescale the pixel values from [0, 255] to [0, 1] interval\n",
    "    rescale = 1./255)\n",
    "\n",
    "# Creating our data generator for our training data\n",
    "train_datagen = ImageDataGenerator(\n",
    "      rescale = 1./255,              # normalize pixel values to [0,1]\n",
    "      rotation_range = 30,           # randomly applies rotations\n",
    "      width_shift_range = 0.3,       # randomly applies width shifting\n",
    "      height_shift_range = 0.3,      # randomly applies height shifting\n",
    "      horizontal_flip = True,        # randonly flips the image\n",
    "      fill_mode = 'nearest')         # uses the fill mode nearest to fill gaps created by the above\n",
    "\n",
    "# Specify criteria about our training data, such as the directory, image size, batch size and type \n",
    "# automagically retrieve images and their classes for train and validation sets\n",
    "train_generator = train_datagen.flow_from_directory(\n",
    "        train_data_dir,\n",
    "        target_size = (img_width, img_height),\n",
    "        batch_size = batch_size,\n",
    "        class_mode = 'binary',\n",
    "        shuffle = True)\n",
    "\n",
    "validation_generator = validation_datagen.flow_from_directory(\n",
    "        validation_data_dir,\n",
    "        target_size = (img_width, img_height),\n",
    "        batch_size = batch_size,\n",
    "        class_mode = 'binary',\n",
    "        shuffle = False)    "
   ]
  },
  {
   "cell_type": "markdown",
   "metadata": {},
   "source": [
    "### Create our model, just like we did previously"
   ]
  },
  {
   "cell_type": "code",
   "execution_count": 21,
   "metadata": {},
   "outputs": [
    {
     "name": "stdout",
     "output_type": "stream",
     "text": [
      "Model: \"sequential_4\"\n",
      "_________________________________________________________________\n",
      " Layer (type)                Output Shape              Param #   \n",
      "=================================================================\n",
      " conv2d_12 (Conv2D)          (None, 148, 148, 32)      896       \n",
      "                                                                 \n",
      " activation_20 (Activation)  (None, 148, 148, 32)      0         \n",
      "                                                                 \n",
      " max_pooling2d_12 (MaxPoolin  (None, 74, 74, 32)       0         \n",
      " g2D)                                                            \n",
      "                                                                 \n",
      " conv2d_13 (Conv2D)          (None, 72, 72, 32)        9248      \n",
      "                                                                 \n",
      " activation_21 (Activation)  (None, 72, 72, 32)        0         \n",
      "                                                                 \n",
      " max_pooling2d_13 (MaxPoolin  (None, 36, 36, 32)       0         \n",
      " g2D)                                                            \n",
      "                                                                 \n",
      " conv2d_14 (Conv2D)          (None, 34, 34, 64)        18496     \n",
      "                                                                 \n",
      " activation_22 (Activation)  (None, 34, 34, 64)        0         \n",
      "                                                                 \n",
      " max_pooling2d_14 (MaxPoolin  (None, 17, 17, 64)       0         \n",
      " g2D)                                                            \n",
      "                                                                 \n",
      " flatten_4 (Flatten)         (None, 18496)             0         \n",
      "                                                                 \n",
      " dense_8 (Dense)             (None, 64)                1183808   \n",
      "                                                                 \n",
      " activation_23 (Activation)  (None, 64)                0         \n",
      "                                                                 \n",
      " dropout_4 (Dropout)         (None, 64)                0         \n",
      "                                                                 \n",
      " dense_9 (Dense)             (None, 1)                 65        \n",
      "                                                                 \n",
      " activation_24 (Activation)  (None, 1)                 0         \n",
      "                                                                 \n",
      "=================================================================\n",
      "Total params: 1,212,513\n",
      "Trainable params: 1,212,513\n",
      "Non-trainable params: 0\n",
      "_________________________________________________________________\n",
      "None\n"
     ]
    }
   ],
   "source": [
    "# Creating out model\n",
    "model = Sequential()\n",
    "model.add(Conv2D(32, (3, 3), input_shape=input_shape))\n",
    "model.add(Activation('relu'))\n",
    "model.add(MaxPooling2D(pool_size=(2, 2)))\n",
    "\n",
    "model.add(Conv2D(32, (3, 3)))\n",
    "model.add(Activation('relu'))\n",
    "model.add(MaxPooling2D(pool_size=(2, 2)))\n",
    "\n",
    "model.add(Conv2D(64, (3, 3)))\n",
    "model.add(Activation('relu'))\n",
    "model.add(MaxPooling2D(pool_size=(2, 2)))\n",
    "\n",
    "model.add(Flatten())\n",
    "model.add(Dense(64))\n",
    "model.add(Activation('relu'))\n",
    "model.add(Dropout(0.5))\n",
    "model.add(Dense(1))\n",
    "model.add(Activation('sigmoid'))\n",
    "\n",
    "print(model.summary())\n",
    "\n",
    "model.compile(loss='binary_crossentropy',\n",
    "              optimizer='rmsprop',\n",
    "              metrics=['accuracy'])"
   ]
  },
  {
   "cell_type": "code",
   "execution_count": 22,
   "metadata": {},
   "outputs": [
    {
     "name": "stderr",
     "output_type": "stream",
     "text": [
      "C:\\Users\\VISHNU TRIPATHI\\AppData\\Local\\Temp\\ipykernel_6572\\3125219199.py:1: UserWarning: `Model.fit_generator` is deprecated and will be removed in a future version. Please use `Model.fit`, which supports generators.\n",
      "  history = model.fit_generator(\n"
     ]
    },
    {
     "name": "stdout",
     "output_type": "stream",
     "text": [
      "Epoch 1/25\n",
      "125/125 [==============================] - 54s 422ms/step - loss: 0.7215 - accuracy: 0.5050 - val_loss: 0.6933 - val_accuracy: 0.5010\n",
      "Epoch 2/25\n",
      "125/125 [==============================] - 56s 447ms/step - loss: 0.6975 - accuracy: 0.5305 - val_loss: 0.6929 - val_accuracy: 0.5010\n",
      "Epoch 3/25\n",
      "125/125 [==============================] - 52s 415ms/step - loss: 0.6940 - accuracy: 0.5510 - val_loss: 0.6797 - val_accuracy: 0.5726\n",
      "Epoch 4/25\n",
      "125/125 [==============================] - 51s 408ms/step - loss: 0.6885 - accuracy: 0.5655 - val_loss: 0.6739 - val_accuracy: 0.5605\n",
      "Epoch 5/25\n",
      "125/125 [==============================] - 51s 411ms/step - loss: 0.6749 - accuracy: 0.5980 - val_loss: 0.6300 - val_accuracy: 0.6573\n",
      "Epoch 6/25\n",
      "125/125 [==============================] - 51s 411ms/step - loss: 0.6522 - accuracy: 0.6280 - val_loss: 0.6318 - val_accuracy: 0.6562\n",
      "Epoch 7/25\n",
      "125/125 [==============================] - 52s 414ms/step - loss: 0.6412 - accuracy: 0.6340 - val_loss: 0.7613 - val_accuracy: 0.5565\n",
      "Epoch 8/25\n",
      "125/125 [==============================] - 53s 421ms/step - loss: 0.6512 - accuracy: 0.6280 - val_loss: 0.5842 - val_accuracy: 0.7137\n",
      "Epoch 9/25\n",
      "125/125 [==============================] - 51s 411ms/step - loss: 0.6263 - accuracy: 0.6480 - val_loss: 0.5783 - val_accuracy: 0.7248\n",
      "Epoch 10/25\n",
      "125/125 [==============================] - 57s 457ms/step - loss: 0.6252 - accuracy: 0.6720 - val_loss: 0.6143 - val_accuracy: 0.6895\n",
      "Epoch 11/25\n",
      "125/125 [==============================] - 51s 411ms/step - loss: 0.6132 - accuracy: 0.6715 - val_loss: 0.5784 - val_accuracy: 0.7218\n",
      "Epoch 12/25\n",
      "125/125 [==============================] - 51s 407ms/step - loss: 0.6067 - accuracy: 0.6690 - val_loss: 0.5731 - val_accuracy: 0.7188\n",
      "Epoch 13/25\n",
      "125/125 [==============================] - 51s 408ms/step - loss: 0.6207 - accuracy: 0.6690 - val_loss: 0.7047 - val_accuracy: 0.6230\n",
      "Epoch 14/25\n",
      "125/125 [==============================] - 51s 411ms/step - loss: 0.6119 - accuracy: 0.6760 - val_loss: 0.5541 - val_accuracy: 0.7440\n",
      "Epoch 15/25\n",
      "125/125 [==============================] - 52s 413ms/step - loss: 0.5918 - accuracy: 0.6915 - val_loss: 0.5630 - val_accuracy: 0.7248\n",
      "Epoch 16/25\n",
      "125/125 [==============================] - 52s 413ms/step - loss: 0.5946 - accuracy: 0.6795 - val_loss: 0.5850 - val_accuracy: 0.7097\n",
      "Epoch 17/25\n",
      "125/125 [==============================] - 51s 408ms/step - loss: 0.5877 - accuracy: 0.7040 - val_loss: 0.5611 - val_accuracy: 0.7500\n",
      "Epoch 18/25\n",
      "125/125 [==============================] - 51s 409ms/step - loss: 0.5994 - accuracy: 0.6855 - val_loss: 0.5729 - val_accuracy: 0.7329\n",
      "Epoch 19/25\n",
      "125/125 [==============================] - 51s 410ms/step - loss: 0.5893 - accuracy: 0.7020 - val_loss: 0.6834 - val_accuracy: 0.6411\n",
      "Epoch 20/25\n",
      "125/125 [==============================] - 51s 411ms/step - loss: 0.5903 - accuracy: 0.6925 - val_loss: 0.5449 - val_accuracy: 0.7389\n",
      "Epoch 21/25\n",
      "125/125 [==============================] - 52s 413ms/step - loss: 0.5705 - accuracy: 0.7040 - val_loss: 0.6760 - val_accuracy: 0.7107\n",
      "Epoch 22/25\n",
      "125/125 [==============================] - 52s 415ms/step - loss: 0.5789 - accuracy: 0.7115 - val_loss: 0.6731 - val_accuracy: 0.6815\n",
      "Epoch 23/25\n",
      "125/125 [==============================] - 51s 408ms/step - loss: 0.5771 - accuracy: 0.6990 - val_loss: 0.6016 - val_accuracy: 0.7127\n",
      "Epoch 24/25\n",
      "125/125 [==============================] - 52s 412ms/step - loss: 0.5935 - accuracy: 0.7025 - val_loss: 0.6690 - val_accuracy: 0.7006\n",
      "Epoch 25/25\n",
      "125/125 [==============================] - 51s 409ms/step - loss: 0.5653 - accuracy: 0.7205 - val_loss: 0.5414 - val_accuracy: 0.7359\n"
     ]
    }
   ],
   "source": [
    "history = model.fit_generator(\n",
    "    train_generator,\n",
    "    steps_per_epoch = nb_train_samples // batch_size,\n",
    "    epochs = epochs,\n",
    "    validation_data = validation_generator,\n",
    "    validation_steps = nb_validation_samples // batch_size)"
   ]
  },
  {
   "cell_type": "markdown",
   "metadata": {},
   "source": [
    "## Plotting our Loss and Accuracy Graphs"
   ]
  },
  {
   "cell_type": "code",
   "execution_count": 23,
   "metadata": {},
   "outputs": [
    {
     "data": {
      "image/png": "[encoded data removed]",
      "text/plain": [
       "<Figure size 432x288 with 1 Axes>"
      ]
     },
     "metadata": {
      "needs_background": "light"
     },
     "output_type": "display_data"
    }
   ],
   "source": [
    "# Plotting our loss charts\n",
    "import matplotlib.pyplot as plt\n",
    "\n",
    "history_dict = history.history\n",
    "\n",
    "loss_values = history_dict['loss']\n",
    "val_loss_values = history_dict['val_loss']\n",
    "epochs = range(1, len(loss_values) + 1)\n",
    "\n",
    "line1 = plt.plot(epochs, val_loss_values, label='Validation/Test Loss')\n",
    "line2 = plt.plot(epochs, loss_values, label='Training Loss')\n",
    "plt.setp(line1, linewidth=2.0, marker = '+', markersize=10.0)\n",
    "plt.setp(line2, linewidth=2.0, marker = '4', markersize=10.0)\n",
    "plt.xlabel('Epochs') \n",
    "plt.ylabel('Loss')\n",
    "plt.grid(True)\n",
    "plt.legend()\n",
    "plt.show()"
   ]
  },
  {
   "cell_type": "code",
   "execution_count": 24,
   "metadata": {},
   "outputs": [
    {
     "data": {
      "image/png": "[encoded data removed]",
      "text/plain": [
       "<Figure size 432x288 with 1 Axes>"
      ]
     },
     "metadata": {
      "needs_background": "light"
     },
     "output_type": "display_data"
    }
   ],
   "source": [
    "# Plotting our accuracy charts\n",
    "import matplotlib.pyplot as plt\n",
    "\n",
    "history_dict = history.history\n",
    "\n",
    "acc_values = history_dict['accuracy']\n",
    "val_acc_values = history_dict['val_accuracy']\n",
    "epochs = range(1, len(loss_values) + 1)\n",
    "\n",
    "line1 = plt.plot(epochs, val_acc_values, label='Validation/Test Accuracy')\n",
    "line2 = plt.plot(epochs, acc_values, label='Training Accuracy')\n",
    "plt.setp(line1, linewidth=2.0, marker = '+', markersize=10.0)\n",
    "plt.setp(line2, linewidth=2.0, marker = '4', markersize=10.0)\n",
    "plt.xlabel('Epochs') \n",
    "plt.ylabel('Accuracy')\n",
    "plt.grid(True)\n",
    "plt.legend()\n",
    "plt.show()"
   ]
  },
  {
   "cell_type": "code",
   "execution_count": null,
   "metadata": {},
   "outputs": [],
   "source": []
  }
 ],
 "metadata": {
  "kernelspec": {
   "display_name": "Python 3 (ipykernel)",
   "language": "python",
   "name": "python3"
  },
  "language_info": {
   "codemirror_mode": {
    "name": "ipython",
    "version": 3
   },
   "file_extension": ".py",
   "mimetype": "text/x-python",
   "name": "python",
   "nbconvert_exporter": "python",
   "pygments_lexer": "ipython3",
   "version": "3.9.12"
  }
 },
 "nbformat": 4,
 "nbformat_minor": 2
}
